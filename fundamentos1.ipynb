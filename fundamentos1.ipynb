{
 "cells": [
  {
   "cell_type": "markdown",
   "id": "ebc860e0",
   "metadata": {},
   "source": []
  },
  {
   "cell_type": "markdown",
   "id": "9923066a",
   "metadata": {},
   "source": [
    "# Fundamentos de python"
   ]
  },
  {
   "cell_type": "markdown",
   "id": "9ae9a07d",
   "metadata": {},
   "source": [
    "### Aspectos básicos\n",
    "\n",
    "* Variables\n",
    "* Operadores matemáticos básicos\n",
    "* Estructuras de control\n",
    "    - Condicionales\n",
    "    - Ciclos\n",
    "    - Funciones\n",
    "* Operadores de comparación\n",
    "* Operadores lógicos\n",
    "* Estructuras de datos\n",
    "    - Cadenas de caracteres\n",
    "    - Enteros \n",
    "    - Flotantes\n",
    "    - Listas\n",
    "    - Diccionarios\n",
    "    - Tuplas"
   ]
  },
  {
   "cell_type": "code",
   "execution_count": 4,
   "id": "68422f3b",
   "metadata": {},
   "outputs": [
    {
     "name": "stdout",
     "output_type": "stream",
     "text": [
      "Hola\n"
     ]
    }
   ],
   "source": [
    "print(\"Hola\")"
   ]
  },
  {
   "cell_type": "code",
   "execution_count": 8,
   "id": "1dec45e3",
   "metadata": {},
   "outputs": [],
   "source": [
    "# variables\n",
    "name = \"Josefino\""
   ]
  },
  {
   "cell_type": "code",
   "execution_count": null,
   "id": "01e4ccd5",
   "metadata": {},
   "outputs": [
    {
     "data": {
      "text/plain": [
       "'Josefino'"
      ]
     },
     "execution_count": 9,
     "metadata": {},
     "output_type": "execute_result"
    }
   ],
   "source": []
  },
  {
   "cell_type": "code",
   "execution_count": 10,
   "id": "2457b62c",
   "metadata": {},
   "outputs": [],
   "source": [
    "last_name = \"Primero\""
   ]
  },
  {
   "cell_type": "code",
   "execution_count": 11,
   "id": "6f1a00d1",
   "metadata": {},
   "outputs": [
    {
     "data": {
      "text/plain": [
       "'Primero'"
      ]
     },
     "execution_count": 11,
     "metadata": {},
     "output_type": "execute_result"
    }
   ],
   "source": [
    "last_name"
   ]
  },
  {
   "cell_type": "code",
   "execution_count": 12,
   "id": "a0675d16",
   "metadata": {},
   "outputs": [],
   "source": [
    "Last_Name = \"Segundo\""
   ]
  },
  {
   "cell_type": "code",
   "execution_count": 13,
   "id": "851c90d1",
   "metadata": {},
   "outputs": [],
   "source": [
    "LastName = \"Primero\""
   ]
  },
  {
   "cell_type": "code",
   "execution_count": 14,
   "id": "7bc0ce3a",
   "metadata": {},
   "outputs": [
    {
     "ename": "NameError",
     "evalue": "name 'last' is not defined",
     "output_type": "error",
     "traceback": [
      "\u001b[31m---------------------------------------------------------------------------\u001b[39m",
      "\u001b[31mNameError\u001b[39m                                 Traceback (most recent call last)",
      "\u001b[36mCell\u001b[39m\u001b[36m \u001b[39m\u001b[32mIn[14]\u001b[39m\u001b[32m, line 1\u001b[39m\n\u001b[32m----> \u001b[39m\u001b[32m1\u001b[39m \u001b[43mlast\u001b[49m.name = \u001b[33m\"\u001b[39m\u001b[33mprimero\u001b[39m\u001b[33m\"\u001b[39m\n",
      "\u001b[31mNameError\u001b[39m: name 'last' is not defined"
     ]
    }
   ],
   "source": [
    "last.name = \"primero\""
   ]
  },
  {
   "cell_type": "code",
   "execution_count": 15,
   "id": "3f257ba8",
   "metadata": {},
   "outputs": [
    {
     "ename": "SyntaxError",
     "evalue": "cannot assign to expression here. Maybe you meant '==' instead of '='? (906108882.py, line 1)",
     "output_type": "error",
     "traceback": [
      "  \u001b[36mCell\u001b[39m\u001b[36m \u001b[39m\u001b[32mIn[15]\u001b[39m\u001b[32m, line 1\u001b[39m\n\u001b[31m    \u001b[39m\u001b[31mlast-name = \"primero\"\u001b[39m\n    ^\n\u001b[31mSyntaxError\u001b[39m\u001b[31m:\u001b[39m cannot assign to expression here. Maybe you meant '==' instead of '='?\n"
     ]
    }
   ],
   "source": [
    "last-name = \"primero\""
   ]
  },
  {
   "cell_type": "code",
   "execution_count": 16,
   "id": "65cae1f5",
   "metadata": {},
   "outputs": [],
   "source": [
    "qwiduhqwehqwo = 25"
   ]
  },
  {
   "cell_type": "code",
   "execution_count": 17,
   "id": "ea162949",
   "metadata": {},
   "outputs": [],
   "source": [
    "base = 25"
   ]
  },
  {
   "cell_type": "code",
   "execution_count": 20,
   "id": "7de77ec3",
   "metadata": {},
   "outputs": [],
   "source": [
    "# operadores matematicos basicos\n",
    "# suma\n",
    "number1 = 10\n",
    "number2 = 20\n",
    "\n",
    "suma1 = number1 + number2"
   ]
  },
  {
   "cell_type": "code",
   "execution_count": 21,
   "id": "14582461",
   "metadata": {},
   "outputs": [
    {
     "data": {
      "text/plain": [
       "30"
      ]
     },
     "execution_count": 21,
     "metadata": {},
     "output_type": "execute_result"
    }
   ],
   "source": [
    "suma1"
   ]
  },
  {
   "cell_type": "code",
   "execution_count": 22,
   "id": "dd501223",
   "metadata": {},
   "outputs": [],
   "source": [
    "# resta\n",
    "resta = number2 - number1"
   ]
  },
  {
   "cell_type": "code",
   "execution_count": 23,
   "id": "55ab869a",
   "metadata": {},
   "outputs": [
    {
     "data": {
      "text/plain": [
       "10"
      ]
     },
     "execution_count": 23,
     "metadata": {},
     "output_type": "execute_result"
    }
   ],
   "source": [
    "resta"
   ]
  },
  {
   "cell_type": "code",
   "execution_count": 24,
   "id": "1f4205e3",
   "metadata": {},
   "outputs": [],
   "source": [
    "multi = number1 * number2\n",
    "div = number1 / number2"
   ]
  },
  {
   "cell_type": "code",
   "execution_count": 26,
   "id": "b160c242",
   "metadata": {},
   "outputs": [
    {
     "data": {
      "text/plain": [
       "0.5"
      ]
     },
     "execution_count": 26,
     "metadata": {},
     "output_type": "execute_result"
    }
   ],
   "source": [
    "multi\n",
    "div"
   ]
  },
  {
   "cell_type": "code",
   "execution_count": 27,
   "id": "ae9b7d7a",
   "metadata": {},
   "outputs": [
    {
     "name": "stdout",
     "output_type": "stream",
     "text": [
      "200\n",
      "0.5\n"
     ]
    }
   ],
   "source": [
    "print(multi)\n",
    "print(div)"
   ]
  },
  {
   "cell_type": "code",
   "execution_count": 36,
   "id": "2fd9b402",
   "metadata": {},
   "outputs": [
    {
     "name": "stdout",
     "output_type": "stream",
     "text": [
      "El resultado de la multiplicacion es: 200\n",
      "El resultado division es: 0.5\n",
      "El resultado de la suma: 30\n",
      "El resultado de la resta: 10\n"
     ]
    }
   ],
   "source": [
    "print(f\"El resultado de la multiplicacion es: {multi}\")\n",
    "print(f\"El resultado division es: {div}\")\n",
    "print(f\"El resultado de la suma: {suma1}\")\n",
    "print(f\"El resultado de la resta: {resta}\")"
   ]
  },
  {
   "cell_type": "code",
   "execution_count": 31,
   "id": "b43eaf08",
   "metadata": {},
   "outputs": [],
   "source": [
    "resta2 = 45 - 54"
   ]
  },
  {
   "cell_type": "code",
   "execution_count": 32,
   "id": "07db3b10",
   "metadata": {},
   "outputs": [
    {
     "name": "stdout",
     "output_type": "stream",
     "text": [
      "-9\n"
     ]
    }
   ],
   "source": [
    "print(resta2)"
   ]
  },
  {
   "cell_type": "code",
   "execution_count": 37,
   "id": "61bab222",
   "metadata": {},
   "outputs": [
    {
     "data": {
      "text/plain": [
       "float"
      ]
     },
     "execution_count": 37,
     "metadata": {},
     "output_type": "execute_result"
    }
   ],
   "source": [
    "type(div)"
   ]
  },
  {
   "cell_type": "code",
   "execution_count": 38,
   "id": "7d4e8230",
   "metadata": {},
   "outputs": [
    {
     "data": {
      "text/plain": [
       "int"
      ]
     },
     "execution_count": 38,
     "metadata": {},
     "output_type": "execute_result"
    }
   ],
   "source": [
    "type(resta2)"
   ]
  },
  {
   "cell_type": "code",
   "execution_count": 39,
   "id": "900173ca",
   "metadata": {},
   "outputs": [
    {
     "data": {
      "text/plain": [
       "str"
      ]
     },
     "execution_count": 39,
     "metadata": {},
     "output_type": "execute_result"
    }
   ],
   "source": [
    "type(name)"
   ]
  },
  {
   "cell_type": "code",
   "execution_count": null,
   "id": "f3441ce7",
   "metadata": {},
   "outputs": [],
   "source": []
  }
 ],
 "metadata": {
  "kernelspec": {
   "display_name": ".venv",
   "language": "python",
   "name": "python3"
  },
  "language_info": {
   "codemirror_mode": {
    "name": "ipython",
    "version": 3
   },
   "file_extension": ".py",
   "mimetype": "text/x-python",
   "name": "python",
   "nbconvert_exporter": "python",
   "pygments_lexer": "ipython3",
   "version": "3.12.3"
  }
 },
 "nbformat": 4,
 "nbformat_minor": 5
}
